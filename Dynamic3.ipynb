{
 "cells": [
  {
   "cell_type": "markdown",
   "metadata": {},
   "source": [
    "# Практика №3. Динамическое программирование"
   ]
  },
  {
   "cell_type": "markdown",
   "metadata": {},
   "source": [
    "## №1"
   ]
  },
  {
   "cell_type": "code",
   "execution_count": 1,
   "metadata": {},
   "outputs": [
    {
     "name": "stdin",
     "output_type": "stream",
     "text": [
      " 100\n"
     ]
    },
    {
     "ename": "ValueError",
     "evalue": "not enough values to unpack (expected 2, got 1)",
     "output_type": "error",
     "traceback": [
      "\u001b[0;31m---------------------------------------------------------------------------\u001b[0m",
      "\u001b[0;31mValueError\u001b[0m                                Traceback (most recent call last)",
      "Cell \u001b[0;32mIn[1], line 11\u001b[0m\n\u001b[1;32m      8\u001b[0m                 dp[i][j] \u001b[38;5;241m=\u001b[39m \u001b[38;5;28mmax\u001b[39m(dp[i \u001b[38;5;241m-\u001b[39m \u001b[38;5;241m1\u001b[39m][j], dp[i \u001b[38;5;241m-\u001b[39m \u001b[38;5;241m1\u001b[39m][j \u001b[38;5;241m-\u001b[39m weights[i \u001b[38;5;241m-\u001b[39m \u001b[38;5;241m1\u001b[39m]] \u001b[38;5;241m+\u001b[39m costs[i \u001b[38;5;241m-\u001b[39m \u001b[38;5;241m1\u001b[39m])\n\u001b[1;32m      9\u001b[0m     \u001b[38;5;28;01mreturn\u001b[39;00m dp[n][m]\n\u001b[0;32m---> 11\u001b[0m n, m \u001b[38;5;241m=\u001b[39m \u001b[38;5;28mmap\u001b[39m(\u001b[38;5;28mint\u001b[39m, \u001b[38;5;28minput\u001b[39m()\u001b[38;5;241m.\u001b[39msplit())\n\u001b[1;32m     12\u001b[0m weights \u001b[38;5;241m=\u001b[39m \u001b[38;5;28mlist\u001b[39m(\u001b[38;5;28mmap\u001b[39m(\u001b[38;5;28mint\u001b[39m, \u001b[38;5;28minput\u001b[39m()\u001b[38;5;241m.\u001b[39msplit()))\n\u001b[1;32m     13\u001b[0m costs \u001b[38;5;241m=\u001b[39m \u001b[38;5;28mlist\u001b[39m(\u001b[38;5;28mmap\u001b[39m(\u001b[38;5;28mint\u001b[39m, \u001b[38;5;28minput\u001b[39m()\u001b[38;5;241m.\u001b[39msplit()))\n",
      "\u001b[0;31mValueError\u001b[0m: not enough values to unpack (expected 2, got 1)"
     ]
    }
   ],
   "source": [
    "\n",
    "def max_cost(n, m, weights, costs):\n",
    "    dp = [[0] * (m + 1) for _ in range(n + 1)]\n",
    "    for i in range(1, n + 1):\n",
    "        for j in range(1, m + 1):\n",
    "            if weights[i - 1] > j:\n",
    "                dp[i][j] = dp[i - 1][j]\n",
    "            else:\n",
    "                dp[i][j] = max(dp[i - 1][j], dp[i - 1][j - weights[i - 1]] + costs[i - 1])\n",
    "    return dp[n][m]\n",
    "\n",
    "n, m = map(int, input().split())\n",
    "weights = list(map(int, input().split()))\n",
    "costs = list(map(int, input().split()))\n",
    "print(max_cost(n, m, weights, costs))\n"
   ]
  },
  {
   "cell_type": "markdown",
   "metadata": {},
   "source": [
    "## №2"
   ]
  },
  {
   "cell_type": "code",
   "execution_count": null,
   "metadata": {},
   "outputs": [],
   "source": [
    "\n",
    "def can_balance(weights):\n",
    "    N = len(weights)\n",
    "    sum_weights = sum(weights)\n",
    "    dp = [[False] * (sum_weights + 1) for _ in range(N + 1)]\n",
    "    dp[0][0] = True\n",
    "    for i in range(1, N + 1):\n",
    "        for j in range(1, sum_weights + 1):\n",
    "            if weights[i - 1] > j:\n",
    "                dp[i][j] = dp[i - 1][j]\n",
    "            else:\n",
    "                dp[i][j] = max(dp[i - 1][j], dp[i - 1][j - weights[i - 1]])\n",
    "    return dp[N][sum_weights]\n",
    "\n",
    "N = int(input())\n",
    "weights = list(map(int, input().split()))\n",
    "print(can_balance(weights))"
   ]
  },
  {
   "cell_type": "markdown",
   "metadata": {},
   "source": [
    "## №3"
   ]
  },
  {
   "cell_type": "code",
   "execution_count": null,
   "metadata": {},
   "outputs": [],
   "source": [
    "\n",
    "def min_coins(N, coins, S):\n",
    "    dp = [float('inf')] * (S + 1)\n",
    "    dp[0] = 0\n",
    "    for i in range(1, S + 1):\n",
    "        for x in coins:\n",
    "            if x <= i:\n",
    "                dp[i] = min(dp[i], dp[i - x] + 1)\n",
    "    if dp[S] == float('inf'):\n",
    "        return \"No solution\"\n",
    "    else:\n",
    "        res = []\n",
    "        i = S\n",
    "        while i > 0:\n",
    "            for x in coins:\n",
    "                if x <= i and dp[i] == dp[i - x] + 1:\n",
    "                    res.append(x)\n",
    "                    i -= x\n",
    "                    break\n",
    "        return ' '.join(map(str, res))\n",
    "\n",
    "N = int(input())\n",
    "coins = list(map(int, input().split()))\n",
    "S = int(input())\n",
    "print(min_coins(N, coins, S))"
   ]
  },
  {
   "cell_type": "markdown",
   "metadata": {},
   "source": [
    "## №4"
   ]
  },
  {
   "cell_type": "code",
   "execution_count": null,
   "metadata": {},
   "outputs": [],
   "source": [
    "\n",
    "def min_items(N, M, weights):\n",
    "    dp = [[False] * (M + 1) for _ in range(N + 1)]\n",
    "    for i in range(N + 1):\n",
    "        dp[i][0] = True\n",
    "    for i in range(1, N + 1):\n",
    "        for j in range(1, M + 1):\n",
    "            if weights[i - 1] > j:\n",
    "                dp[i][j] = dp[i - 1][j]\n",
    "            else:\n",
    "                dp[i][j] = max(dp[i - 1][j], dp[i - 1][j - weights[i - 1]])\n",
    "    if dp[N][M]:\n",
    "        return N\n",
    "    else:\n",
    "        return 0\n",
    "\n",
    "N, M = map(int, input().split())\n",
    "weights = list(map(int, input().split()))\n",
    "print(min_items(N, M, weights))"
   ]
  },
  {
   "cell_type": "markdown",
   "metadata": {},
   "source": [
    "## №5"
   ]
  },
  {
   "cell_type": "code",
   "execution_count": null,
   "metadata": {},
   "outputs": [],
   "source": [
    "\n",
    "def knight_tour(N, M):\n",
    "    dp = [[0] * (M + 1) for _ in range(N + 1)]\n",
    "    dp[0][0] = 1\n",
    "    for i in range(1, N + 1):\n",
    "        for j in range(1, M + 1):\n",
    "            if i % 2 == 0:\n",
    "                dp[i][j] = dp[i - 2][j - 1]\n",
    "            else:\n",
    "                dp[i][j] = dp[i - 2][j + 1]\n",
    "    return dp[N][M]\n",
    "\n",
    "N, M = map(int, input().split())\n",
    "print(knight_tour(N, M))"
   ]
  }
 ],
 "metadata": {
  "kernelspec": {
   "display_name": "Python 3 (ipykernel)",
   "language": "python",
   "name": "python3"
  },
  "language_info": {
   "codemirror_mode": {
    "name": "ipython",
    "version": 3
   },
   "file_extension": ".py",
   "mimetype": "text/x-python",
   "name": "python",
   "nbconvert_exporter": "python",
   "pygments_lexer": "ipython3",
   "version": "3.11.6"
  }
 },
 "nbformat": 4,
 "nbformat_minor": 4
}
